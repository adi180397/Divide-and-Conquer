{
  "nbformat": 4,
  "nbformat_minor": 0,
  "metadata": {
    "colab": {
      "provenance": [],
      "authorship_tag": "ABX9TyO16aLak8hV6bIZWp001y9I",
      "include_colab_link": true
    },
    "kernelspec": {
      "name": "python3",
      "display_name": "Python 3"
    },
    "language_info": {
      "name": "python"
    }
  },
  "cells": [
    {
      "cell_type": "markdown",
      "metadata": {
        "id": "view-in-github",
        "colab_type": "text"
      },
      "source": [
        "<a href=\"https://colab.research.google.com/github/adi180397/Divide-and-Conquer/blob/main/Find_min%2Cmax_using_divide_and_conquer.ipynb\" target=\"_parent\"><img src=\"https://colab.research.google.com/assets/colab-badge.svg\" alt=\"Open In Colab\"/></a>"
      ]
    },
    {
      "cell_type": "code",
      "execution_count": null,
      "metadata": {
        "colab": {
          "base_uri": "https://localhost:8080/"
        },
        "id": "hIOTDZzDCb6R",
        "outputId": "f77faf40-5010-4caa-9c64-cc466377b9c0"
      },
      "outputs": [
        {
          "output_type": "stream",
          "name": "stdout",
          "text": [
            "1 89\n"
          ]
        }
      ],
      "source": [
        "# Finding min,max from the given array\n",
        "# to use divide and conquer first we need to think about the smallest problem and the to big problem.\n",
        "def findminmax(arr,i,j):\n",
        "  # one element in an array\n",
        "  if i==j:\n",
        "    min=arr[i]\n",
        "    max=arr[i]\n",
        "  # Two element in an array\n",
        "  elif i==j-1:\n",
        "    if arr[i]>arr[j]:\n",
        "      min=arr[j]\n",
        "      max=arr[i]\n",
        "    else:\n",
        "      min=arr[i]\n",
        "      max=arr[j]\n",
        "  # when more than two element is there in array\n",
        "  # Divide and Conquer\n",
        "  else:\n",
        "  # Divide\n",
        "    mid=i+(j-i)//2\n",
        "    # Conquer\n",
        "    min_1,max_1=findminmax(arr,i,mid)\n",
        "    min_2,max_2=findminmax(arr,mid+1,j)\n",
        "    # Combine the result\n",
        "    if min_1>min_2:\n",
        "      min=min_2\n",
        "    else:\n",
        "      min=min_1\n",
        "    if max_1>max_2:\n",
        "      max=max_1\n",
        "    else:\n",
        "      max=max_2\n",
        "  return min,max\n",
        "\n",
        "#driver code\n",
        "arr=[1,3,5,7,32,89,4]\n",
        "n=len(arr)\n",
        "i=0\n",
        "j=n-1\n",
        "min_val,max_val=findminmax(arr,i,j)\n",
        "print(min_val,max_val)\n"
      ]
    }
  ]
}