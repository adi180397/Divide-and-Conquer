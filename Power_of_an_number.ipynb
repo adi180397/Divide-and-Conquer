{
  "nbformat": 4,
  "nbformat_minor": 0,
  "metadata": {
    "colab": {
      "provenance": [],
      "authorship_tag": "ABX9TyM+YzdJpzHpF4CgZo+S+2yX",
      "include_colab_link": true
    },
    "kernelspec": {
      "name": "python3",
      "display_name": "Python 3"
    },
    "language_info": {
      "name": "python"
    }
  },
  "cells": [
    {
      "cell_type": "markdown",
      "metadata": {
        "id": "view-in-github",
        "colab_type": "text"
      },
      "source": [
        "<a href=\"https://colab.research.google.com/github/adi180397/Divide-and-Conquer/blob/main/Power_of_an_number.ipynb\" target=\"_parent\"><img src=\"https://colab.research.google.com/assets/colab-badge.svg\" alt=\"Open In Colab\"/></a>"
      ]
    },
    {
      "cell_type": "code",
      "execution_count": 2,
      "metadata": {
        "colab": {
          "base_uri": "https://localhost:8080/"
        },
        "id": "ayyuWEIvINQh",
        "outputId": "aff65ff3-c273-41ad-a896-1381ebb4bab6"
      },
      "outputs": [
        {
          "output_type": "stream",
          "name": "stdout",
          "text": [
            "17179869184\n"
          ]
        }
      ],
      "source": [
        "def power(a,n):\n",
        "  # finding a to power 0 results in 1.\n",
        "  if n==0:\n",
        "    return 1\n",
        "  # finding a to power 1\n",
        "  elif n==1:\n",
        "    return a\n",
        "  # When n>1 use divide and conquer\n",
        "  else:\n",
        "    # Divide\n",
        "    mid=n//2\n",
        "    # Conquer\n",
        "    b=power(a,mid)\n",
        "    # combine\n",
        "    result=b*b\n",
        "    if n%2==0:\n",
        "      return result\n",
        "    else:\n",
        "      return result * a\n",
        "\n",
        "\n",
        "# driver code\n",
        "a=4\n",
        "n=17\n",
        "answer=power(a,n)\n",
        "print(answer)"
      ]
    }
  ]
}